{
 "cells": [
  {
   "cell_type": "code",
   "execution_count": 129,
   "metadata": {
    "executionInfo": {
     "elapsed": 1738,
     "status": "ok",
     "timestamp": 1645983543997,
     "user": {
      "displayName": "Gabriel Drai",
      "photoUrl": "https://lh3.googleusercontent.com/a/default-user=s64",
      "userId": "02239997061551702670"
     },
     "user_tz": -60
    },
    "id": "ZZAsu1kYQ3JD"
   },
   "outputs": [
    {
     "name": "stdout",
     "output_type": "stream",
     "text": [
      "4.1.2\n"
     ]
    },
    {
     "name": "stderr",
     "output_type": "stream",
     "text": [
      "[nltk_data] Downloading package stopwords to\n",
      "[nltk_data]     C:\\Users\\nicol\\AppData\\Roaming\\nltk_data...\n",
      "[nltk_data]   Package stopwords is already up-to-date!\n",
      "[nltk_data] Downloading package wordnet to\n",
      "[nltk_data]     C:\\Users\\nicol\\AppData\\Roaming\\nltk_data...\n",
      "[nltk_data]   Package wordnet is already up-to-date!\n",
      "[nltk_data] Downloading package punkt to\n",
      "[nltk_data]     C:\\Users\\nicol\\AppData\\Roaming\\nltk_data...\n",
      "[nltk_data]   Package punkt is already up-to-date!\n"
     ]
    }
   ],
   "source": [
    "#libraries\n",
    "import numpy as np\n",
    "import pandas as pd\n",
    "from time import time\n",
    "\n",
    "from sklearn import tree\n",
    "from sklearn.model_selection import train_test_split\n",
    "from sklearn.feature_extraction.text import TfidfVectorizer, CountVectorizer \n",
    "from sklearn.ensemble import RandomForestClassifier\n",
    "\n",
    "import nltk\n",
    "nltk.download('stopwords')\n",
    "nltk.download('wordnet')\n",
    "nltk.download('punkt')\n",
    "\n",
    "from nltk.corpus import stopwords\n",
    "newStopWords = ['rt', 'mkr', 'didn', 'bc', 'n', 'm', 'im', 'll', 'y', 've', 'u', 'ur', 'don', 't', 's', 'co']\n",
    "stop_words = stopwords.words('english')\n",
    "stop_words.extend(newStopWords)\n",
    "\n",
    "from nltk.stem import PorterStemmer, WordNetLemmatizer\n",
    "stemmer = PorterStemmer()\n",
    "lematizer = WordNetLemmatizer()\n",
    "\n",
    "import warnings\n",
    "warnings.filterwarnings('ignore')\n",
    "\n",
    "import matplotlib\n",
    "import matplotlib.pyplot as plt\n",
    "%matplotlib inline\n",
    "\n",
    "matplotlib.rcParams['figure.facecolor'] = '#ffffff'\n",
    "\n",
    "import gensim\n",
    "from gensim.models import Word2Vec\n",
    "print(gensim.__version__)"
   ]
  },
  {
   "cell_type": "code",
   "execution_count": 2,
   "metadata": {},
   "outputs": [],
   "source": [
    "# df = pd.read_csv(\"./data/cyberbullying_tweets.csv\")\n",
    "df = pd.read_csv(\"./data/df_with_lang.csv\")"
   ]
  },
  {
   "cell_type": "code",
   "execution_count": 6,
   "metadata": {},
   "outputs": [
    {
     "name": "stdout",
     "output_type": "stream",
     "text": [
      "Error in language detection : tweet n° 4011 --> ♪♥♪\n",
      "Error in language detection : tweet n° 8695 --> 😂😂😂😂😂\n",
      "Error in language detection : tweet n° 14458 --> 👧👧👧👧 …\n",
      "Error in language detection : tweet n° 14691 --> ♫♪\n",
      "Error in language detection : tweet n° 24110 --> ?????????\n",
      "Error in language detection : tweet n° 24529 --> 5/16/15\n",
      "Error in language detection : tweet n° 25032 --> 01:15:19:00\n",
      "Error in language detection : tweet n° 25846 --> 5/14/15\n",
      "Error in language detection : tweet n° 26069 --> 💃🍦🐙😇🌸🌟\n",
      "Error in language detection : tweet n° 26461 --> 5/11/15\n",
      "Error in language detection : tweet n° 27618 --> 5/17/15\n",
      "Error in language detection : tweet n° 27928 --> 5/13/15\n",
      "Error in language detection : tweet n° 28228 --> &#128533;\n",
      "Error in language detection : tweet n° 28468 --> :-)\n",
      "Error in language detection : tweet n° 28855 --> 💩\n",
      "Error in language detection : tweet n° 31214 --> 5/12/15\n",
      "Error in language detection : tweet n° 31286 --> .\n",
      "Error in language detection : tweet n° 31676 --> 5/10/15\n"
     ]
    }
   ],
   "source": [
    "# !pip install langdetect\n",
    "\n",
    "# from langdetect import detect, DetectorFactory\n",
    "\n",
    "# # Language detection algorithm is non-deterministic, \n",
    "# # which means that if you try to run it on a text which is either too short or too ambiguous,\n",
    "# # you might get different results everytime you run it.\n",
    "# DetectorFactory.seed = 0\n",
    "\n",
    "# # Detecting language and errors \n",
    "# cnt = 0\n",
    "# for row in X:\n",
    "#     try : df.loc[cnt, 'language'] = detect(row)\n",
    "#     except Exception as exception:\n",
    "#         print(\"Error in language detection : tweet n°\", cnt, \"-->\", df.tweet_text[cnt])\n",
    "#     cnt += 1\n",
    "\n",
    "# df.loc[31676]\n",
    "df.language.value_counts(normalize=True)[:5]\n",
    "\n",
    "# df.to_csv(\"data/df_with_lang.csv\",index=False)"
   ]
  },
  {
   "cell_type": "code",
   "execution_count": 3,
   "metadata": {},
   "outputs": [
    {
     "name": "stdout",
     "output_type": "stream",
     "text": [
      "<class 'pandas.core.frame.DataFrame'>\n",
      "RangeIndex: 47692 entries, 0 to 47691\n",
      "Data columns (total 3 columns):\n",
      " #   Column              Non-Null Count  Dtype \n",
      "---  ------              --------------  ----- \n",
      " 0   tweet_text          47692 non-null  object\n",
      " 1   cyberbullying_type  47692 non-null  object\n",
      " 2   language            47674 non-null  object\n",
      "dtypes: object(3)\n",
      "memory usage: 1.1+ MB\n"
     ]
    }
   ],
   "source": [
    "df.info()"
   ]
  },
  {
   "cell_type": "code",
   "execution_count": 4,
   "metadata": {},
   "outputs": [
    {
     "data": {
      "image/png": "[encoded data removed]",
      "text/plain": [
       "<Figure size 432x288 with 1 Axes>"
      ]
     },
     "metadata": {},
     "output_type": "display_data"
    }
   ],
   "source": [
    "index = df.cyberbullying_type.value_counts().index.tolist()\n",
    "values = df.cyberbullying_type.value_counts().values.tolist()\n",
    "\n",
    "plt.bar(index, values, facecolor='g', alpha=0.75)\n",
    "\n",
    "plt.xlabel('Types')\n",
    "plt.ylabel('Counts')\n",
    "plt.title('Number of tweets of each cyberbullying type')\n",
    "# Rotation of the bar names\n",
    "plt.xticks(index, rotation=90)\n",
    "# plt.subplot_adjust(bottom=0.01, top=0.99)\n",
    "\n",
    "plt.grid(True)\n",
    "plt.show()"
   ]
  },
  {
   "cell_type": "code",
   "execution_count": 5,
   "metadata": {},
   "outputs": [
    {
     "data": {
      "text/html": [
       "<div>\n",
       "<style scoped>\n",
       "    .dataframe tbody tr th:only-of-type {\n",
       "        vertical-align: middle;\n",
       "    }\n",
       "\n",
       "    .dataframe tbody tr th {\n",
       "        vertical-align: top;\n",
       "    }\n",
       "\n",
       "    .dataframe thead th {\n",
       "        text-align: right;\n",
       "    }\n",
       "</style>\n",
       "<table border=\"1\" class=\"dataframe\">\n",
       "  <thead>\n",
       "    <tr style=\"text-align: right;\">\n",
       "      <th></th>\n",
       "      <th>tweet_text</th>\n",
       "      <th>cyberbullying_type</th>\n",
       "      <th>language</th>\n",
       "      <th>target</th>\n",
       "    </tr>\n",
       "  </thead>\n",
       "  <tbody>\n",
       "    <tr>\n",
       "      <th>0</th>\n",
       "      <td>In other words #katandandre, your food was cra...</td>\n",
       "      <td>not_cyberbullying</td>\n",
       "      <td>en</td>\n",
       "      <td>3</td>\n",
       "    </tr>\n",
       "    <tr>\n",
       "      <th>1</th>\n",
       "      <td>Why is #aussietv so white? #MKR #theblock #ImA...</td>\n",
       "      <td>not_cyberbullying</td>\n",
       "      <td>en</td>\n",
       "      <td>3</td>\n",
       "    </tr>\n",
       "    <tr>\n",
       "      <th>2</th>\n",
       "      <td>@XochitlSuckkks a classy whore? Or more red ve...</td>\n",
       "      <td>not_cyberbullying</td>\n",
       "      <td>en</td>\n",
       "      <td>3</td>\n",
       "    </tr>\n",
       "    <tr>\n",
       "      <th>3</th>\n",
       "      <td>@Jason_Gio meh. :P  thanks for the heads up, b...</td>\n",
       "      <td>not_cyberbullying</td>\n",
       "      <td>en</td>\n",
       "      <td>3</td>\n",
       "    </tr>\n",
       "    <tr>\n",
       "      <th>4</th>\n",
       "      <td>@RudhoeEnglish This is an ISIS account pretend...</td>\n",
       "      <td>not_cyberbullying</td>\n",
       "      <td>en</td>\n",
       "      <td>3</td>\n",
       "    </tr>\n",
       "    <tr>\n",
       "      <th>5</th>\n",
       "      <td>@Raja5aab @Quickieleaks Yes, the test of god i...</td>\n",
       "      <td>not_cyberbullying</td>\n",
       "      <td>en</td>\n",
       "      <td>3</td>\n",
       "    </tr>\n",
       "    <tr>\n",
       "      <th>6</th>\n",
       "      <td>Itu sekolah ya bukan tempat bully! Ga jauh kay...</td>\n",
       "      <td>not_cyberbullying</td>\n",
       "      <td>id</td>\n",
       "      <td>3</td>\n",
       "    </tr>\n",
       "    <tr>\n",
       "      <th>7</th>\n",
       "      <td>Karma. I hope it bites Kat on the butt. She is...</td>\n",
       "      <td>not_cyberbullying</td>\n",
       "      <td>en</td>\n",
       "      <td>3</td>\n",
       "    </tr>\n",
       "    <tr>\n",
       "      <th>8</th>\n",
       "      <td>@stockputout everything but mostly my priest</td>\n",
       "      <td>not_cyberbullying</td>\n",
       "      <td>en</td>\n",
       "      <td>3</td>\n",
       "    </tr>\n",
       "    <tr>\n",
       "      <th>9</th>\n",
       "      <td>Rebecca Black Drops Out of School Due to Bully...</td>\n",
       "      <td>not_cyberbullying</td>\n",
       "      <td>en</td>\n",
       "      <td>3</td>\n",
       "    </tr>\n",
       "  </tbody>\n",
       "</table>\n",
       "</div>"
      ],
      "text/plain": [
       "                                          tweet_text cyberbullying_type  \\\n",
       "0  In other words #katandandre, your food was cra...  not_cyberbullying   \n",
       "1  Why is #aussietv so white? #MKR #theblock #ImA...  not_cyberbullying   \n",
       "2  @XochitlSuckkks a classy whore? Or more red ve...  not_cyberbullying   \n",
       "3  @Jason_Gio meh. :P  thanks for the heads up, b...  not_cyberbullying   \n",
       "4  @RudhoeEnglish This is an ISIS account pretend...  not_cyberbullying   \n",
       "5  @Raja5aab @Quickieleaks Yes, the test of god i...  not_cyberbullying   \n",
       "6  Itu sekolah ya bukan tempat bully! Ga jauh kay...  not_cyberbullying   \n",
       "7  Karma. I hope it bites Kat on the butt. She is...  not_cyberbullying   \n",
       "8       @stockputout everything but mostly my priest  not_cyberbullying   \n",
       "9  Rebecca Black Drops Out of School Due to Bully...  not_cyberbullying   \n",
       "\n",
       "  language  target  \n",
       "0       en       3  \n",
       "1       en       3  \n",
       "2       en       3  \n",
       "3       en       3  \n",
       "4       en       3  \n",
       "5       en       3  \n",
       "6       id       3  \n",
       "7       en       3  \n",
       "8       en       3  \n",
       "9       en       3  "
      ]
     },
     "execution_count": 5,
     "metadata": {},
     "output_type": "execute_result"
    }
   ],
   "source": [
    "types = {'age':0,\n",
    "         'ethnicity':1,\n",
    "         'gender':2,\n",
    "         'not_cyberbullying':3,\n",
    "         'other_cyberbullying':4,\n",
    "         'religion':5}\n",
    "\n",
    "df['target'] = df['cyberbullying_type'].replace(types, inplace=False)\n",
    "df[:10]"
   ]
  },
  {
   "cell_type": "code",
   "execution_count": 154,
   "metadata": {
    "colab": {
     "base_uri": "https://localhost:8080/"
    },
    "executionInfo": {
     "elapsed": 231248,
     "status": "ok",
     "timestamp": 1645983847128,
     "user": {
      "displayName": "Gabriel Drai",
      "photoUrl": "https://lh3.googleusercontent.com/a/default-user=s64",
      "userId": "02239997061551702670"
     },
     "user_tz": -60
    },
    "id": "910ZCrJQQ3JG",
    "outputId": "40882336-27d8-42a4-bd13-f24a0296e44b"
   },
   "outputs": [],
   "source": [
    "# X = df.tweet_text\n",
    "# X = [''.join(item.lower() for item in x if item.isalpha() or item == \" \") for x in X]\n",
    "# X = [x.split(\" \") for x in X]\n",
    "# # X[:10]\n",
    "\n",
    "# Y = df.target\n",
    "# Y = [y for y in Y]\n",
    "# Y = np.reshape(Y, (len(Y), 1))\n",
    "# # Y[:10]"
   ]
  },
  {
   "cell_type": "code",
   "execution_count": 153,
   "metadata": {},
   "outputs": [],
   "source": [
    "# X_en = df[df.language == 'en'].tweet_text\n",
    "# X_en = [''.join(item.lower() for item in x if item.isalpha() or item == \" \") for x in X_en]\n",
    "# X_en = [x.split(\" \") for x in X_en]\n",
    "# # X_en[:10]\n",
    "\n",
    "# Y_en = df[df.language == 'en'].target\n",
    "# Y_en = [y for y in Y_en]\n",
    "# Y_en = np.reshape(Y_en, (len(Y_en), 1))\n",
    "# # Y_en[:10]"
   ]
  },
  {
   "cell_type": "code",
   "execution_count": 134,
   "metadata": {},
   "outputs": [],
   "source": [
    "df_en = df[df.language == 'en']\n",
    "\n",
    "def clean_text(text):\n",
    "    \n",
    "    text = text.apply(lambda x: ''.join(item.lower() for item in x))\n",
    "    text = text.apply(lambda x: ' '.join(word for word in x.split(\" \") if not word.startswith('@')))\n",
    "    text = text.apply(lambda x: ''.join([lematizer.lemmatize(w) for w in x]))\n",
    "    \n",
    "    mapping = [ ('\\d+', ''), ('https?:', ''), ('http?:', '') ]\n",
    "    for k, v in mapping:\n",
    "        text = text.str.replace(k, v)\n",
    "\n",
    "    return text\n",
    "\n",
    "df_en['tweet_text_tranformed'] = clean_text(df_en.tweet_text) \n",
    "df_en.tweet_text_tranformed"
   ]
  },
  {
   "cell_type": "code",
   "execution_count": 155,
   "metadata": {},
   "outputs": [
    {
     "name": "stdout",
     "output_type": "stream",
     "text": [
      "X_train shape: (31240,)\n",
      "X_test shape:  (13389,)\n"
     ]
    }
   ],
   "source": [
    "random_state = np.random.RandomState(0)\n",
    "\n",
    "X = df_en.tweet_text_tranformed\n",
    "y = df_en.target\n",
    "\n",
    "X_train, X_test, y_train, y_test = train_test_split(X, y, test_size=0.30, random_state=42)\n",
    "\n",
    "X_train, y_train = X_train.reset_index(drop=True), y_train.reset_index(drop=True)\n",
    "X_test, y_test = X_test.reset_index(drop=True), y_test.reset_index(drop=True)\n",
    "\n",
    "print(\"X_train shape: {}\".format(X_train.shape))\n",
    "print(\"X_test shape:  {}\".format(X_test.shape))"
   ]
  },
  {
   "cell_type": "code",
   "execution_count": 163,
   "metadata": {},
   "outputs": [
    {
     "name": "stdout",
     "output_type": "stream",
     "text": [
      "Extracting features from X using TfidfVectorizer\n",
      "n_samples: 31240, n_features: 17501\n",
      "TfidfVectorizer takes 1.053917s\n"
     ]
    },
    {
     "data": {
      "text/plain": [
       "array(['__', '___', '____', '_xd_', 'aa', 'aaa', 'aaaand', 'ab',\n",
       "       'abandoned', 'abc'], dtype=object)"
      ]
     },
     "execution_count": 163,
     "metadata": {},
     "output_type": "execute_result"
    }
   ],
   "source": [
    "vectorizer = TfidfVectorizer(stop_words=stop_words, ngram_range=(1,2), max_df=0.7, min_df=4)\n",
    "# max_df : removes term with DF higher than the 70% of the documents\n",
    "# min_df : terms must have DF>=4 to be considered\n",
    "\n",
    "start = time()\n",
    "X_train_tfidf = vectorizer.fit_transform(X_train)\n",
    "vec_time = time() - start\n",
    "\n",
    "print(\"Extracting features from X using TfidfVectorizer\")\n",
    "print(\"n_samples: %d, n_features: %d\" % X_train_tfidf.shape)\n",
    "print(\"TfidfVectorizer takes %fs\" % vec_time)\n",
    "\n",
    "features = vectorizer.get_feature_names_out()\n",
    "\n",
    "X_test_tfidf = vectorizer.transform(X_test)\n",
    "\n",
    "features[:10]"
   ]
  },
  {
   "cell_type": "code",
   "execution_count": 9,
   "metadata": {
    "id": "Cxn-IzyrSrld"
   },
   "outputs": [],
   "source": [
    "def top_tfidf_feats(row, features, top_n=25):\n",
    "    '''Get top n tfidf values in row and return them with their corresponding feature names.'''\n",
    "    topn_ids = np.argsort(row)[::-1][:top_n]\n",
    "    top_feats = [(features[i], row[i]) for i in topn_ids]\n",
    "    df = pd.DataFrame(top_feats)\n",
    "    df.columns = ['feature', 'tfidf']\n",
    "    return df\n",
    "\n",
    "\n",
    "def top_feats_in_doc(Xtr, features, row_id, top_n=25):\n",
    "    ''' Top tfidf features in specific document (matrix row) '''\n",
    "    row = np.squeeze(Xtr[row_id].toarray())\n",
    "    return top_tfidf_feats(row, features, top_n)\n",
    "\n",
    "\n",
    "def top_mean_feats(Xtr, features, grp_ids=None, min_tfidf=0.1, max_tfidf=0.3, top_n=25):\n",
    "    ''' Return the top n features that on average are most important amongst documents in rows\n",
    "        indentified by indices in grp_ids. '''\n",
    "    if grp_ids:\n",
    "        D = Xtr[grp_ids].toarray()\n",
    "    else:\n",
    "        D = Xtr.toarray()\n",
    "\n",
    "    D[D < min_tfidf] = 0\n",
    "    D[D > max_tfidf] = 0\n",
    "    tfidf_means = np.mean(D, axis=0)\n",
    "    return top_tfidf_feats(tfidf_means, features, top_n)\n",
    "\n",
    "\n",
    "def top_feats_by_class(Xtr, y, features, min_tfidf=0.1, max_tfidf=0.3, top_n=25):\n",
    "    '''Return a list of dfs, where each df holds top_n features and their mean tfidf value\n",
    "       calculated across documents with the same class label.'''\n",
    "    dfs=[]\n",
    "    labels = np.unique(y)\n",
    "    for label in labels:\n",
    "        ids = np.where(y==label)\n",
    "        feats_df = top_mean_feats(Xtr, features, ids, min_tfidf=min_tfidf, max_tfidf=max_tfidf, top_n=top_n)\n",
    "        feats_df.label = label\n",
    "        dfs.append(feats_df)\n",
    "    return dfs"
   ]
  },
  {
   "cell_type": "code",
   "execution_count": 142,
   "metadata": {},
   "outputs": [],
   "source": [
    "row = df_en.tweet_text_tranformed[0]\n",
    "\n",
    "Xtr = X_train_tfidf\n",
    "\n",
    "ytr = y_train\n",
    "\n",
    "dfs = top_feats_by_class(Xtr, ytr, features)\n",
    "# top_mean_feats(Xtr, features)"
   ]
  },
  {
   "cell_type": "code",
   "execution_count": 143,
   "metadata": {},
   "outputs": [
    {
     "data": {
      "text/plain": [
       "array([0, 1, 2, 3, 4, 5], dtype=int64)"
      ]
     },
     "execution_count": 143,
     "metadata": {},
     "output_type": "execute_result"
    }
   ],
   "source": [
    "np.unique(y_train)"
   ]
  },
  {
   "cell_type": "code",
   "execution_count": 144,
   "metadata": {},
   "outputs": [
    {
     "data": {
      "text/plain": [
       "6"
      ]
     },
     "execution_count": 144,
     "metadata": {},
     "output_type": "execute_result"
    }
   ],
   "source": [
    "len(dfs)"
   ]
  },
  {
   "cell_type": "code",
   "execution_count": 150,
   "metadata": {},
   "outputs": [
    {
     "data": {
      "text/html": [
       "<div>\n",
       "<style scoped>\n",
       "    .dataframe tbody tr th:only-of-type {\n",
       "        vertical-align: middle;\n",
       "    }\n",
       "\n",
       "    .dataframe tbody tr th {\n",
       "        vertical-align: top;\n",
       "    }\n",
       "\n",
       "    .dataframe thead th {\n",
       "        text-align: right;\n",
       "    }\n",
       "</style>\n",
       "<table border=\"1\" class=\"dataframe\">\n",
       "  <thead>\n",
       "    <tr style=\"text-align: right;\">\n",
       "      <th></th>\n",
       "      <th>feature</th>\n",
       "      <th>tfidf</th>\n",
       "    </tr>\n",
       "  </thead>\n",
       "  <tbody>\n",
       "    <tr>\n",
       "      <th>0</th>\n",
       "      <td>muslims</td>\n",
       "      <td>0.035014</td>\n",
       "    </tr>\n",
       "    <tr>\n",
       "      <th>1</th>\n",
       "      <td>muslim</td>\n",
       "      <td>0.034043</td>\n",
       "    </tr>\n",
       "    <tr>\n",
       "      <th>2</th>\n",
       "      <td>idiot</td>\n",
       "      <td>0.027704</td>\n",
       "    </tr>\n",
       "    <tr>\n",
       "      <th>3</th>\n",
       "      <td>christian</td>\n",
       "      <td>0.024832</td>\n",
       "    </tr>\n",
       "    <tr>\n",
       "      <th>4</th>\n",
       "      <td>idiots</td>\n",
       "      <td>0.022193</td>\n",
       "    </tr>\n",
       "    <tr>\n",
       "      <th>5</th>\n",
       "      <td>islam</td>\n",
       "      <td>0.021335</td>\n",
       "    </tr>\n",
       "    <tr>\n",
       "      <th>6</th>\n",
       "      <td>islamic</td>\n",
       "      <td>0.020812</td>\n",
       "    </tr>\n",
       "    <tr>\n",
       "      <th>7</th>\n",
       "      <td>radical</td>\n",
       "      <td>0.018759</td>\n",
       "    </tr>\n",
       "    <tr>\n",
       "      <th>8</th>\n",
       "      <td>terrorism</td>\n",
       "      <td>0.017895</td>\n",
       "    </tr>\n",
       "    <tr>\n",
       "      <th>9</th>\n",
       "      <td>right</td>\n",
       "      <td>0.017851</td>\n",
       "    </tr>\n",
       "    <tr>\n",
       "      <th>10</th>\n",
       "      <td>support</td>\n",
       "      <td>0.016888</td>\n",
       "    </tr>\n",
       "    <tr>\n",
       "      <th>11</th>\n",
       "      <td>woman</td>\n",
       "      <td>0.016499</td>\n",
       "    </tr>\n",
       "    <tr>\n",
       "      <th>12</th>\n",
       "      <td>christian woman</td>\n",
       "      <td>0.016045</td>\n",
       "    </tr>\n",
       "    <tr>\n",
       "      <th>13</th>\n",
       "      <td>islamic terrorism</td>\n",
       "      <td>0.015967</td>\n",
       "    </tr>\n",
       "    <tr>\n",
       "      <th>14</th>\n",
       "      <td>terrorist</td>\n",
       "      <td>0.012816</td>\n",
       "    </tr>\n",
       "    <tr>\n",
       "      <th>15</th>\n",
       "      <td>terrorists</td>\n",
       "      <td>0.012254</td>\n",
       "    </tr>\n",
       "    <tr>\n",
       "      <th>16</th>\n",
       "      <td>isis</td>\n",
       "      <td>0.011688</td>\n",
       "    </tr>\n",
       "    <tr>\n",
       "      <th>17</th>\n",
       "      <td>humanity</td>\n",
       "      <td>0.011520</td>\n",
       "    </tr>\n",
       "    <tr>\n",
       "      <th>18</th>\n",
       "      <td>quran</td>\n",
       "      <td>0.011325</td>\n",
       "    </tr>\n",
       "    <tr>\n",
       "      <th>19</th>\n",
       "      <td>jihad</td>\n",
       "      <td>0.011297</td>\n",
       "    </tr>\n",
       "    <tr>\n",
       "      <th>20</th>\n",
       "      <td>christians</td>\n",
       "      <td>0.011204</td>\n",
       "    </tr>\n",
       "    <tr>\n",
       "      <th>21</th>\n",
       "      <td>religion</td>\n",
       "      <td>0.009738</td>\n",
       "    </tr>\n",
       "    <tr>\n",
       "      <th>22</th>\n",
       "      <td>world</td>\n",
       "      <td>0.009573</td>\n",
       "    </tr>\n",
       "    <tr>\n",
       "      <th>23</th>\n",
       "      <td>know</td>\n",
       "      <td>0.009385</td>\n",
       "    </tr>\n",
       "    <tr>\n",
       "      <th>24</th>\n",
       "      <td>amp</td>\n",
       "      <td>0.008826</td>\n",
       "    </tr>\n",
       "  </tbody>\n",
       "</table>\n",
       "</div>"
      ],
      "text/plain": [
       "              feature     tfidf\n",
       "0             muslims  0.035014\n",
       "1              muslim  0.034043\n",
       "2               idiot  0.027704\n",
       "3           christian  0.024832\n",
       "4              idiots  0.022193\n",
       "5               islam  0.021335\n",
       "6             islamic  0.020812\n",
       "7             radical  0.018759\n",
       "8           terrorism  0.017895\n",
       "9               right  0.017851\n",
       "10            support  0.016888\n",
       "11              woman  0.016499\n",
       "12    christian woman  0.016045\n",
       "13  islamic terrorism  0.015967\n",
       "14          terrorist  0.012816\n",
       "15         terrorists  0.012254\n",
       "16               isis  0.011688\n",
       "17           humanity  0.011520\n",
       "18              quran  0.011325\n",
       "19              jihad  0.011297\n",
       "20         christians  0.011204\n",
       "21           religion  0.009738\n",
       "22              world  0.009573\n",
       "23               know  0.009385\n",
       "24                amp  0.008826"
      ]
     },
     "execution_count": 150,
     "metadata": {},
     "output_type": "execute_result"
    }
   ],
   "source": [
    "dfs[5]"
   ]
  },
  {
   "cell_type": "code",
   "execution_count": 168,
   "metadata": {
    "executionInfo": {
     "elapsed": 9,
     "status": "ok",
     "timestamp": 1645984013723,
     "user": {
      "displayName": "Gabriel Drai",
      "photoUrl": "https://lh3.googleusercontent.com/a/default-user=s64",
      "userId": "02239997061551702670"
     },
     "user_tz": -60
    },
    "id": "63GJ2w76Q3JJ"
   },
   "outputs": [],
   "source": [
    "class Tree():\n",
    "    def __init__(self, max_depth, min_samples_split=2, min_samples_leaf=1, splitting=True):\n",
    "        \"\"\"Tree Descision Classifier.\n",
    "\n",
    "        Args:\n",
    "            max_depth (int): The maximum depth of the tree.\n",
    "            \n",
    "            min_samples_split (int): The minimum number of samples\n",
    "                required to split an internal node.\n",
    "                \n",
    "            min_samples_leaf (int): The minimum number of samples\n",
    "                required to be at a leaf node.\n",
    "                \n",
    "            splitting (Boolean): to increase speed and prevent overfitting,\n",
    "                we do not calculate the impurity for each node but for\n",
    "                each decile if True.\n",
    "        \"\"\"\n",
    "        assert max_depth >= 1, \"max_depth must be greater or equal than 1\"\n",
    "        assert min_samples_split >= 2, \"min_samples_split must be greater or equal than 2\"\n",
    "        assert min_samples_leaf >= 1, \"min_samples_leaf must be greater or equal than 1\"\n",
    "        \n",
    "        self.max_depth = max_depth\n",
    "        self.min_samples_split = min_samples_split\n",
    "        self.min_samples_leaf = min_samples_leaf\n",
    "        self.splitting = splitting\n",
    "        self.nodes = {\"root\": {}}\n",
    "        \n",
    "    def gini_index(self, sub, m):\n",
    "        proportions = sum([((sub[:,-1] == x).sum() / len(sub))**2 for x in np.unique(sub[:,-1])])\n",
    "        return (1 - proportions) * (len(sub) / m)\n",
    "\n",
    "    def get_split(self, X, depth, node):\n",
    "        \n",
    "        m = len(X)\n",
    "        \n",
    "        if depth != 0 and m >= self.min_samples_split:\n",
    "            \n",
    "            best_split = None\n",
    "            best_feature = None\n",
    "            best_value = float(\"inf\")\n",
    "            \n",
    "            for feature in range(len(X[0]) - 1):\n",
    "                \n",
    "                if self.splitting == False: uniques = np.unique(X[:,feature])\n",
    "                else: uniques = np.percentile(X[:,feature], np.arange(10,100,10))\n",
    "\n",
    "                for split in uniques:\n",
    "                    A, B = X[X[:,feature] <= split], X[X[:,feature] > split]\n",
    "                    if len(A) >= self.min_samples_leaf and len(B) >= self.min_samples_leaf:\n",
    "                        value = self.gini_index(A, m) + self.gini_index(B, m)\n",
    "                        if value < best_value:\n",
    "                            best_value = value\n",
    "                            best_feature = feature\n",
    "                            best_split = split\n",
    "            \n",
    "            if best_feature is not None:\n",
    "                A, B = X[X[:,best_feature] <= best_split], X[X[:,best_feature] > best_split]\n",
    "                node[\"feature\"] = best_feature\n",
    "                node[\"gini_index\"] = best_value\n",
    "                node[\"split\"] = best_split\n",
    "                node[\"A\"] = {}\n",
    "                node[\"B\"] = {}\n",
    "                node[\"class_A\"] = np.unique(A[:,-1])[np.argmax([(A[:,-1] == x).sum() for x in np.unique(A[:,-1])])]\n",
    "                node[\"class_B\"] = np.unique(B[:,-1])[np.argmax([(B[:,-1] == x).sum() for x in np.unique(B[:,-1])])]\n",
    "                self.get_split(A, depth-1, node[\"A\"])\n",
    "                self.get_split(B, depth-1, node[\"B\"])\n",
    "                \n",
    "    \n",
    "    def fit(self, X, y):\n",
    "        X = np.append(X,y, axis=1)\n",
    "        self.get_split(X, self.max_depth, self.nodes[\"root\"])\n",
    "        \n",
    "    def predict(self, X):\n",
    "        node = self.nodes[\"root\"]\n",
    "        while True:\n",
    "            if X[node[\"feature\"]] <= node[\"split\"]:\n",
    "                if not node[\"A\"]:\n",
    "                    return node[\"class_A\"]\n",
    "                else:\n",
    "                    node = node[\"A\"]\n",
    "            else:\n",
    "                if not node[\"B\"]:\n",
    "                    return node[\"class_B\"]\n",
    "                else:\n",
    "                    node = node[\"B\"]\n",
    "    \n",
    "    def score(self, X, Y):\n",
    "        count = 0\n",
    "        for x, y in zip(X,Y):\n",
    "            if self.predict(x) == y: count += 1\n",
    "        return count/len(X)\n",
    "    \n",
    "\n",
    "class RandomForest():\n",
    "    def __init__(self, n_estimators):\n",
    "        \"\"\"Random Forest Estimator\n",
    "\n",
    "        Args:\n",
    "            n_estimators (int):Number of estimators\n",
    "        \"\"\"\n",
    "        assert n_estimators >= 2, \"max_depth must be greater or equal than 2\"\n",
    "        self.n_estimators = n_estimators\n",
    "        \n",
    "    def fit(self, X, y):\n",
    "        \n",
    "        self.all_trees = []\n",
    "        \n",
    "        # We sample only 2/3 of the total input dataset\n",
    "        sub_size = round(len(X)*(2/3))\n",
    "        for i in range(self.n_estimators):\n",
    "            id = np.random.randint(0,len(X),sub_size)\n",
    "            subX = np.array(X)[id]\n",
    "            suby = y[id.astype(int)]\n",
    "            t = Tree(10)\n",
    "            t.fit(subX, suby)\n",
    "            self.all_trees.append(t)\n",
    "            \n",
    "    def predict(self, X):\n",
    "        predictions = []\n",
    "        for t in self.all_trees:\n",
    "            predictions.append(t.predict(X))\n",
    "        return max(set(predictions), key=predictions.count)\n",
    "\n",
    "    def score(self, X, Y):\n",
    "        count = 0\n",
    "        for x, y in zip(X,Y):\n",
    "            if self.predict(x) == y: count += 1\n",
    "        return count/len(X)"
   ]
  },
  {
   "cell_type": "code",
   "execution_count": 170,
   "metadata": {
    "colab": {
     "base_uri": "https://localhost:8080/"
    },
    "executionInfo": {
     "elapsed": 72888,
     "status": "ok",
     "timestamp": 1645984086604,
     "user": {
      "displayName": "Gabriel Drai",
      "photoUrl": "https://lh3.googleusercontent.com/a/default-user=s64",
      "userId": "02239997061551702670"
     },
     "user_tz": -60
    },
    "id": "CQhWOlsfQ3JJ",
    "outputId": "7ecb7d2e-ae01-491d-ee06-157e55cbd377"
   },
   "outputs": [
    {
     "name": "stdout",
     "output_type": "stream",
     "text": [
      "sk-learn model score:  0.6939278512211516\n"
     ]
    }
   ],
   "source": [
    "clf = tree.DecisionTreeClassifier(max_depth = 10, min_samples_split = 6, min_samples_leaf= 1, random_state=42)\n",
    "clf.fit(X_train_tfidf, y_train)\n",
    "print(\"sk-learn model score: \", clf.score(X_test_tfidf, y_test))\n",
    "\n",
    "# model = Tree(max_depth=10, min_samples_split = 6, min_samples_leaf= 1, splitting=10)\n",
    "# model.fit(X_train_tfidf, y_train)\n",
    "# print(\"Homemade model score: \", model.score(X_test_tfidf, y_test))"
   ]
  },
  {
   "cell_type": "code",
   "execution_count": 172,
   "metadata": {
    "colab": {
     "base_uri": "https://localhost:8080/"
    },
    "executionInfo": {
     "elapsed": 566539,
     "status": "ok",
     "timestamp": 1645984653139,
     "user": {
      "displayName": "Gabriel Drai",
      "photoUrl": "https://lh3.googleusercontent.com/a/default-user=s64",
      "userId": "02239997061551702670"
     },
     "user_tz": -60
    },
    "id": "VA_sVl08Q3JK",
    "outputId": "1347b02c-3a67-41ec-fec8-8e71aeab9a8a"
   },
   "outputs": [
    {
     "name": "stdout",
     "output_type": "stream",
     "text": [
      "sk-learn model score:  0.8075285682276495\n",
      "sk-learn model takes 6.749825s\n"
     ]
    }
   ],
   "source": [
    "clf = RandomForestClassifier(n_estimators=10)\n",
    "\n",
    "start = time()\n",
    "clf.fit(X_train_tfidf, y_train)\n",
    "sklearn_RF_time = time() - start\n",
    "print(\"sk-learn model score: \", clf.score(X_test_tfidf, y_test))\n",
    "print(\"sk-learn model takes %fs\" % sklearn_RF_time)\n",
    "\n",
    "# model = RandomForest(10)\n",
    "\n",
    "# start = time()\n",
    "# model.fit(X_train, y_train)\n",
    "# homemade_RF_time = time() - start\n",
    "# print(\"\\nHomemade model score: \", model.score(X_test, y_test))\n",
    "# print(\"Homemade model takes %fs\" % homemade_RF_time)"
   ]
  }
 ],
 "metadata": {
  "colab": {
   "name": "cyberbully.ipynb",
   "provenance": []
  },
  "interpreter": {
   "hash": "07429fcb4c504a0378980367d3c7fce80391802e4a36d1633a5a7bb6cd53a327"
  },
  "kernelspec": {
   "display_name": "Python 3",
   "language": "python",
   "name": "python3"
  },
  "language_info": {
   "codemirror_mode": {
    "name": "ipython",
    "version": 3
   },
   "file_extension": ".py",
   "mimetype": "text/x-python",
   "name": "python",
   "nbconvert_exporter": "python",
   "pygments_lexer": "ipython3",
   "version": "3.8.8"
  }
 },
 "nbformat": 4,
 "nbformat_minor": 1
}
